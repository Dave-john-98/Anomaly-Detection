{
 "cells": [
  {
   "cell_type": "markdown",
   "id": "17f0a9df-7196-40e5-9971-faec48bd76b4",
   "metadata": {},
   "source": [
    "## Introduction\n",
    "\n",
    "In this report, we utilize unsupervised learning techniques to identify anomalies in a healthcare dataset. Specifically, we will apply Autoencoders and Isolation Forest algorithms to detect unusual patterns within engineered features of healthcare data. This approach aims to highlight potential outliers that may indicate errors, fraud, or significant deviations from typical healthcare operations.\n"
   ]
  },
  {
   "cell_type": "markdown",
   "id": "13445e50-0834-4c35-bf8e-85ab9b7b05e2",
   "metadata": {},
   "source": [
    "#### Data Loading and Overview\n",
    "\n",
    "We begin by loading the healthcare dataset, which has been pre-processed and contains engineered features tailored for anomaly detection. This section covers the initial examination of the data to ensure correctness of the formats and to gain a preliminary understanding of the feature distributions and potential data quality issues.\n"
   ]
  },
  {
   "cell_type": "code",
   "execution_count": 1,
   "id": "1dbe745d-fa98-4526-9263-24eb486a2194",
   "metadata": {},
   "outputs": [],
   "source": [
    "import numpy as np\n",
    "import pandas as pd\n",
    "import matplotlib.pyplot as plt"
   ]
  },
  {
   "cell_type": "code",
   "execution_count": 2,
   "id": "59f66250-4dbe-475b-b9c5-8147cbe0cb47",
   "metadata": {},
   "outputs": [
    {
     "data": {
      "text/html": [
       "<div>\n",
       "<style scoped>\n",
       "    .dataframe tbody tr th:only-of-type {\n",
       "        vertical-align: middle;\n",
       "    }\n",
       "\n",
       "    .dataframe tbody tr th {\n",
       "        vertical-align: top;\n",
       "    }\n",
       "\n",
       "    .dataframe thead th {\n",
       "        text-align: right;\n",
       "    }\n",
       "</style>\n",
       "<table border=\"1\" class=\"dataframe\">\n",
       "  <thead>\n",
       "    <tr style=\"text-align: right;\">\n",
       "      <th></th>\n",
       "      <th>Payment_to_Charge_Ratio</th>\n",
       "      <th>Discharges_per_Dollar</th>\n",
       "      <th>Average_Payment_per_Discharge</th>\n",
       "      <th>Coverage_Ratio</th>\n",
       "      <th>Discharges_per_Medicare_Payment</th>\n",
       "      <th>hospital_efficiency_score</th>\n",
       "      <th>charge_to_payment_ratio</th>\n",
       "      <th>discharge_efficiency</th>\n",
       "      <th>Avg Covered Charge Deviation</th>\n",
       "      <th>Provider Type Discharge Deviation</th>\n",
       "      <th>Weighted DRG Complexity Score</th>\n",
       "      <th>Patient Complexity Ratio</th>\n",
       "    </tr>\n",
       "  </thead>\n",
       "  <tbody>\n",
       "    <tr>\n",
       "      <th>0</th>\n",
       "      <td>0.144517</td>\n",
       "      <td>0.015751</td>\n",
       "      <td>52.348681</td>\n",
       "      <td>0.824568</td>\n",
       "      <td>0.019103</td>\n",
       "      <td>362.231538</td>\n",
       "      <td>5.705678</td>\n",
       "      <td>362.231538</td>\n",
       "      <td>0.155639</td>\n",
       "      <td>1.065344</td>\n",
       "      <td>513.202706</td>\n",
       "      <td>0.989130</td>\n",
       "    </tr>\n",
       "    <tr>\n",
       "      <th>1</th>\n",
       "      <td>0.328890</td>\n",
       "      <td>0.002419</td>\n",
       "      <td>355.479286</td>\n",
       "      <td>0.859896</td>\n",
       "      <td>0.002813</td>\n",
       "      <td>1080.846429</td>\n",
       "      <td>2.614543</td>\n",
       "      <td>1080.846429</td>\n",
       "      <td>-0.962919</td>\n",
       "      <td>-0.599682</td>\n",
       "      <td>300.738400</td>\n",
       "      <td>0.285714</td>\n",
       "    </tr>\n",
       "    <tr>\n",
       "      <th>2</th>\n",
       "      <td>0.118577</td>\n",
       "      <td>0.004416</td>\n",
       "      <td>185.574583</td>\n",
       "      <td>0.819472</td>\n",
       "      <td>0.005389</td>\n",
       "      <td>1565.015417</td>\n",
       "      <td>6.910895</td>\n",
       "      <td>1565.015417</td>\n",
       "      <td>0.444029</td>\n",
       "      <td>-0.360098</td>\n",
       "      <td>187.533360</td>\n",
       "      <td>0.279070</td>\n",
       "    </tr>\n",
       "    <tr>\n",
       "      <th>3</th>\n",
       "      <td>0.294976</td>\n",
       "      <td>0.004615</td>\n",
       "      <td>165.166400</td>\n",
       "      <td>0.762181</td>\n",
       "      <td>0.006055</td>\n",
       "      <td>559.931200</td>\n",
       "      <td>2.583872</td>\n",
       "      <td>559.931200</td>\n",
       "      <td>-1.034028</td>\n",
       "      <td>-0.288988</td>\n",
       "      <td>261.244300</td>\n",
       "      <td>0.287356</td>\n",
       "    </tr>\n",
       "    <tr>\n",
       "      <th>4</th>\n",
       "      <td>0.153365</td>\n",
       "      <td>0.003181</td>\n",
       "      <td>269.524444</td>\n",
       "      <td>0.857398</td>\n",
       "      <td>0.003710</td>\n",
       "      <td>1757.403889</td>\n",
       "      <td>5.590566</td>\n",
       "      <td>1757.403889</td>\n",
       "      <td>0.072220</td>\n",
       "      <td>-0.513187</td>\n",
       "      <td>217.814898</td>\n",
       "      <td>0.225000</td>\n",
       "    </tr>\n",
       "  </tbody>\n",
       "</table>\n",
       "</div>"
      ],
      "text/plain": [
       "   Payment_to_Charge_Ratio  Discharges_per_Dollar  \\\n",
       "0                 0.144517               0.015751   \n",
       "1                 0.328890               0.002419   \n",
       "2                 0.118577               0.004416   \n",
       "3                 0.294976               0.004615   \n",
       "4                 0.153365               0.003181   \n",
       "\n",
       "   Average_Payment_per_Discharge  Coverage_Ratio  \\\n",
       "0                      52.348681        0.824568   \n",
       "1                     355.479286        0.859896   \n",
       "2                     185.574583        0.819472   \n",
       "3                     165.166400        0.762181   \n",
       "4                     269.524444        0.857398   \n",
       "\n",
       "   Discharges_per_Medicare_Payment  hospital_efficiency_score  \\\n",
       "0                         0.019103                 362.231538   \n",
       "1                         0.002813                1080.846429   \n",
       "2                         0.005389                1565.015417   \n",
       "3                         0.006055                 559.931200   \n",
       "4                         0.003710                1757.403889   \n",
       "\n",
       "   charge_to_payment_ratio  discharge_efficiency  \\\n",
       "0                 5.705678            362.231538   \n",
       "1                 2.614543           1080.846429   \n",
       "2                 6.910895           1565.015417   \n",
       "3                 2.583872            559.931200   \n",
       "4                 5.590566           1757.403889   \n",
       "\n",
       "   Avg Covered Charge Deviation  Provider Type Discharge Deviation  \\\n",
       "0                      0.155639                           1.065344   \n",
       "1                     -0.962919                          -0.599682   \n",
       "2                      0.444029                          -0.360098   \n",
       "3                     -1.034028                          -0.288988   \n",
       "4                      0.072220                          -0.513187   \n",
       "\n",
       "   Weighted DRG Complexity Score  Patient Complexity Ratio  \n",
       "0                     513.202706                  0.989130  \n",
       "1                     300.738400                  0.285714  \n",
       "2                     187.533360                  0.279070  \n",
       "3                     261.244300                  0.287356  \n",
       "4                     217.814898                  0.225000  "
      ]
     },
     "execution_count": 2,
     "metadata": {},
     "output_type": "execute_result"
    }
   ],
   "source": [
    "# Load the dataset\n",
    "data = pd.read_csv('/Users/dave.john.98/Desktop/APAN/Fall 24/Anomaly Detection/Week 8/healthcare_features.csv')\n",
    "\n",
    "# Display the first few rows of the dataframe\n",
    "data.head()\n"
   ]
  },
  {
   "cell_type": "markdown",
   "id": "7a3687f2-20e5-4e9e-b29d-535c8593fa1b",
   "metadata": {},
   "source": [
    "#### Preliminary Data Analysis\n",
    "\n",
    "Upon loading the data, it's important to examine the types of the columns and basic statistics to ensure there are no anomalies or unexpected values. The `info()` function provides a concise summary of the dataframe, showing us the data types and non-null counts, which helps in identifying any missing values. The `describe()` function will give us a statistical summary of numerical features, which is essential for understanding the data distribution and spotting any outliers or inconsistencies in the dataset.\n"
   ]
  },
  {
   "cell_type": "code",
   "execution_count": 3,
   "id": "1c094211-52a1-4b3d-82f8-8ca3132e833c",
   "metadata": {},
   "outputs": [
    {
     "name": "stdout",
     "output_type": "stream",
     "text": [
      "<class 'pandas.core.frame.DataFrame'>\n",
      "RangeIndex: 163065 entries, 0 to 163064\n",
      "Data columns (total 12 columns):\n",
      " #   Column                             Non-Null Count   Dtype  \n",
      "---  ------                             --------------   -----  \n",
      " 0   Payment_to_Charge_Ratio            163065 non-null  float64\n",
      " 1   Discharges_per_Dollar              163065 non-null  float64\n",
      " 2   Average_Payment_per_Discharge      163065 non-null  float64\n",
      " 3   Coverage_Ratio                     163065 non-null  float64\n",
      " 4   Discharges_per_Medicare_Payment    163065 non-null  float64\n",
      " 5   hospital_efficiency_score          163065 non-null  float64\n",
      " 6   charge_to_payment_ratio            163065 non-null  float64\n",
      " 7   discharge_efficiency               163065 non-null  float64\n",
      " 8   Avg Covered Charge Deviation       163065 non-null  float64\n",
      " 9   Provider Type Discharge Deviation  163065 non-null  float64\n",
      " 10  Weighted DRG Complexity Score      163065 non-null  float64\n",
      " 11  Patient Complexity Ratio           163065 non-null  float64\n",
      "dtypes: float64(12)\n",
      "memory usage: 14.9 MB\n"
     ]
    }
   ],
   "source": [
    "# Detailed exploratory data analysis code here\n",
    "data.describe()\n",
    "data.info()\n"
   ]
  },
  {
   "cell_type": "markdown",
   "id": "85efeeea-fcff-4738-89cc-94800c9ba6e8",
   "metadata": {},
   "source": [
    "## Implementing Autoencoders for Anomaly Detection\n",
    "\n",
    "Autoencoders are neural networks designed to encode the input into a lower-dimensional space and then reconstruct the output from this representation. The goal is to capture the underlying patterns of the data. In anomaly detection, instances with high reconstruction errors post-training are often considered anomalies, indicating that the model finds these points difficult to reproduce, possibly due to their divergence from the typical data patterns.\n",
    "\n",
    "Here, we will configure and train an Autoencoder model using the PyOD library. This model will help us identify data points that are significantly different from the norm.\n"
   ]
  },
  {
   "cell_type": "markdown",
   "id": "75dcf92d-6571-4067-ad99-75ab5abe41a7",
   "metadata": {},
   "source": [
    "#### Data Preparation: Train-Test Split\n",
    "\n",
    "Before training our Autoencoder, it's important to split the dataset into training and test sets. This division allows us to train the model on a portion of the data and then evaluate its performance on a separate set that it has never seen. This practice helps in validating the model's effectiveness at anomaly detection in a real-world scenario.\n"
   ]
  },
  {
   "cell_type": "code",
   "execution_count": 4,
   "id": "a216a037-fcd4-4f19-8bf3-6ea9e1ffc01d",
   "metadata": {},
   "outputs": [],
   "source": [
    "from sklearn.model_selection import train_test_split\n",
    "\n",
    "# Split the dataset into training and test sets (70/30 split)\n",
    "X_train, X_test = train_test_split(data, test_size=0.30, random_state=42)\n"
   ]
  },
  {
   "cell_type": "markdown",
   "id": "8f731573-c882-4e26-aebd-1a069f65fe47",
   "metadata": {},
   "source": [
    "#### Implementing Autoencoders for Anomaly Detection\n",
    "\n",
    "Now that we have prepared our data, we can proceed to set up and train the Autoencoder. This model will learn to reconstruct the training data and then be tested on the test set to see how well it can generalize, indicating its effectiveness in anomaly detection.\n"
   ]
  },
  {
   "cell_type": "code",
   "execution_count": 20,
   "id": "ceff10c9-c1bf-40bf-bca8-2352ad4dab96",
   "metadata": {},
   "outputs": [
    {
     "name": "stderr",
     "output_type": "stream",
     "text": [
      "Training: 100%|█████████████████████████████████| 10/10 [03:06<00:00, 18.64s/it]\n"
     ]
    }
   ],
   "source": [
    "from pyod.models.auto_encoder import AutoEncoder\n",
    "import numpy as np\n",
    "\n",
    "# Initialize the Autoencoder model\n",
    "autoencoder = AutoEncoder(contamination=0.05, hidden_neuron_list=[10, 5])\n",
    "\n",
    "# Fit the Autoencoder model on the training data\n",
    "autoencoder.fit(X_train)\n"
   ]
  },
  {
   "cell_type": "code",
   "execution_count": 21,
   "id": "52891865-eebc-413e-983c-c62ea0d8ebfb",
   "metadata": {},
   "outputs": [
    {
     "name": "stdout",
     "output_type": "stream",
     "text": [
      "The threshold for the defined contamination rate: 3.97324104309082\n",
      "The training data: {0: 108437, 1: 5708}\n",
      "The training data: {0: 46482, 1: 2438}\n"
     ]
    }
   ],
   "source": [
    "# Training data\n",
    "y_train_scores = autoencoder.decision_function(X_train)\n",
    "y_train_pred = autoencoder.predict(X_train)\n",
    "\n",
    "# Test data\n",
    "y_test_scores = autoencoder.decision_function(X_test)\n",
    "y_test_pred = autoencoder.predict(X_test) # outlier labels (0 or 1)\n",
    "\n",
    "# Threshold for the defined comtanimation rate\n",
    "print(\"The threshold for the defined contamination rate:\" , autoencoder.threshold_)\n",
    "\n",
    "def count_stat(vector):\n",
    "    # Because it is '0' and '1', we can run a count statistic.\n",
    "    unique, counts = np.unique(vector, return_counts=True)\n",
    "    return dict(zip(unique, counts))\n",
    "\n",
    "print(\"The training data:\", count_stat(y_train_pred))\n",
    "print(\"The training data:\", count_stat(y_test_pred))"
   ]
  },
  {
   "cell_type": "markdown",
   "id": "1c60bebb-a96f-4d5b-9c72-dadae3616608",
   "metadata": {},
   "source": [
    "#### Model Threshold and Anomaly Counts\n",
    "\n",
    "After training the Autoencoder, we evaluated its performance on both the training and test datasets. Here, we calculated the **outlier threshold** based on the contamination rate (5%) defined during model initialization. This threshold represents the cutoff score above which data points are considered anomalies.\n",
    "\n",
    "Using this threshold, we computed the following results:\n",
    "- **Outlier Threshold**: The threshold score calculated by the model is approximately **3.97**.\n",
    "- **Anomaly Count in Training Data**: Out of 114,145 samples, **5,708** were flagged as anomalies.\n",
    "- **Anomaly Count in Test Data**: Out of 48,920 samples, **2,438** were flagged as anomalies.\n",
    "\n",
    "These anomaly counts indicate that the model successfully identified a subset of observations as potential outliers in both training and test sets, in line with the contamination rate of 5%.\n"
   ]
  },
  {
   "cell_type": "code",
   "execution_count": 22,
   "id": "4e1055dc-83c0-4b12-aac5-a1a1853ac37a",
   "metadata": {},
   "outputs": [
    {
     "data": {
      "text/plain": [
       "{'batch_norm': True,\n",
       " 'batch_size': 32,\n",
       " 'compile_mode': 'default',\n",
       " 'contamination': 0.05,\n",
       " 'device': device(type='cpu'),\n",
       " 'dropout_rate': 0.2,\n",
       " 'epoch_num': 10,\n",
       " 'hidden_activation_name': 'relu',\n",
       " 'hidden_neuron_list': [10, 5],\n",
       " 'lr': 0.001,\n",
       " 'optimizer_name': 'adam',\n",
       " 'optimizer_params': {'weight_decay': 1e-05},\n",
       " 'preprocessing': True,\n",
       " 'random_state': 42,\n",
       " 'use_compile': False,\n",
       " 'verbose': 1}"
      ]
     },
     "execution_count": 22,
     "metadata": {},
     "output_type": "execute_result"
    }
   ],
   "source": [
    "autoencoder.get_params()"
   ]
  },
  {
   "cell_type": "code",
   "execution_count": 23,
   "id": "9073de25-3aef-4d18-9e2a-771ab03e0234",
   "metadata": {},
   "outputs": [
    {
     "data": {
      "text/plain": [
       "Text(0, 0.5, 'Frequency')"
      ]
     },
     "execution_count": 23,
     "metadata": {},
     "output_type": "execute_result"
    },
    {
     "data": {
      "image/png": "[encoded data removed]",
      "text/plain": [
       "<Figure size 1200x600 with 1 Axes>"
      ]
     },
     "metadata": {},
     "output_type": "display_data"
    }
   ],
   "source": [
    "# Manually define bins for better resolution\n",
    "plt.figure(figsize=(12, 6))\n",
    "plt.hist(y_train_scores, bins='auto', alpha=0.4)  # Increase the number of bins\n",
    "\n",
    "plt.title(\"Histogram of Autoencoder Outlier Scores\")\n",
    "plt.axvline(autoencoder.threshold_, color='red', linestyle='--', label=f\"Outlier Threshold: {autoencoder.threshold_:.2f}\")\n",
    "plt.xlabel('Outlier Score')\n",
    "plt.xlim([0, 20])\n",
    "plt.ylabel('Frequency')"
   ]
  },
  {
   "cell_type": "markdown",
   "id": "6850c5cc-bcd9-4494-a104-d900c3e2f241",
   "metadata": {},
   "source": [
    "#### Takeaways from the Histogram of Outlier Scores\n",
    "\n",
    "To improve the readability of the histogram, an x-axis limit using `plt.xlim([0, 20])` was applied, as the full range of scores extended up to 500. This allowed us to zoom in on the distribution of scores near the threshold and better visualize how the majority of data points relate to the defined anomaly cutoff.\n",
    "\n",
    "1. **Concentration of Normal Scores**: The majority of data points have low outlier scores (close to 0), indicating that they conform well to the learned patterns of the Autoencoder model. This suggests that the model effectively captures the structure of typical data points.\n",
    "\n",
    "2. **Right-Skewed Distribution**: The distribution is right-skewed, with a long tail extending towards higher scores. By zooming in on the x-axis, we can focus on the region where most data points fall, while still observing a small set of outliers beyond the threshold.\n",
    "\n",
    "3. **Defined Anomaly Threshold**: The red dashed line in the plot represents the anomaly threshold (~3.97), calculated based on the contamination rate of 5%. Data points with scores above this threshold are classified as anomalies. Zooming in allows us to see how this threshold separates the majority of normal scores from the outliers more clearly.\n",
    "\n",
    "4. **Anomalous Observations**: Despite limiting the x-axis range, we observe a subset of data points with scores exceeding the threshold. These high scores represent observations that the model finds difficult to reconstruct, which may indicate unusual or significant deviations in these data points.\n",
    "\n",
    "5. **Implications for Anomaly Detection**: The histogram demonstrates that the Autoencoder effectively separates normal data from anomalies, with a clear threshold boundary. These anomalies may warrant further examination to understand potential issues, rare cases, or interesting patterns within the healthcare dataset.\n",
    "\n",
    "Overall, the adjusted visualization provides a clearer view of how the model differentiates normal and anomalous data points, focusing on the most relevant range for interpreting the threshold and identifying outliers.\n"
   ]
  },
  {
   "cell_type": "markdown",
   "id": "60a4dd84-5773-439b-95c7-c70ad62a9fa6",
   "metadata": {},
   "source": [
    "#### Ensemble Averaging of Multiple Autoencoders\n",
    "\n",
    "To improve the robustness of our anomaly detection, we use an ensemble approach with three Autoencoder models, each having different layer configurations. By combining the results of these models, we can leverage the strengths of each model and obtain a more stable anomaly detection result.\n",
    "\n",
    "To better match our dataset, which contains 12 features, we adjusted the hidden layer structures of the Autoencoder models:\n",
    "\n",
    "1. **Model 1**: `[12, 6, 3]` - This model provides moderate compression by gradually reducing from 12 to 3 neurons.\n",
    "2. **Model 2**: `[12, 8, 4, 2]` - A deeper model with more layers, allowing for progressive feature extraction down to 2 neurons.\n",
    "3. **Model 3**: `[12, 10, 5, 2]` - Similar to Model 2 but with slightly larger intermediate layers, capturing more complex relationships before reaching the 2-dimensional bottleneck.\n",
    "\n",
    "These adjusted configurations are tailored to the feature count of our dataset, allowing each model to learn a compact and effective representation of the data."
   ]
  },
  {
   "cell_type": "code",
   "execution_count": 25,
   "id": "ac123177-4c14-4f59-9025-0014615815fb",
   "metadata": {},
   "outputs": [
    {
     "name": "stderr",
     "output_type": "stream",
     "text": [
      "Training: 100%|█████████████████████████████████| 10/10 [02:08<00:00, 12.83s/it]\n",
      "Training: 100%|█████████████████████████████████| 10/10 [02:35<00:00, 15.53s/it]\n",
      "Training: 100%|█████████████████████████████████| 10/10 [02:52<00:00, 17.28s/it]\n"
     ]
    }
   ],
   "source": [
    "from pyod.models.combination import aom, moa, average, maximization\n",
    "from pyod.utils.utility import standardizer\n",
    "\n",
    "# Initialize three Autoencoder models with layer configurations based on 12 input features\n",
    "autoencoder1 = AutoEncoder(contamination=0.05, hidden_neuron_list=[12, 6, 3])\n",
    "autoencoder2 = AutoEncoder(contamination=0.05, hidden_neuron_list=[12, 8, 4, 2])\n",
    "autoencoder3 = AutoEncoder(contamination=0.05, hidden_neuron_list=[12, 10, 5, 2])\n",
    "\n",
    "# Prepare arrays to store model results for the training and test sets\n",
    "train_scores = np.zeros([X_train.shape[0], 3])\n",
    "test_scores = np.zeros([X_test.shape[0], 3])\n",
    "\n",
    "# Fit each Autoencoder model on the training data\n",
    "autoencoder1.fit(X_train)\n",
    "autoencoder2.fit(X_train)\n",
    "autoencoder3.fit(X_train)\n",
    "\n",
    "# Store the decision scores (outlier scores) from each model\n",
    "train_scores[:, 0] = autoencoder1.decision_function(X_train)\n",
    "train_scores[:, 1] = autoencoder2.decision_function(X_train)\n",
    "train_scores[:, 2] = autoencoder3.decision_function(X_train)\n",
    "test_scores[:, 0] = autoencoder1.decision_function(X_test)\n",
    "test_scores[:, 1] = autoencoder2.decision_function(X_test)\n",
    "test_scores[:, 2] = autoencoder3.decision_function(X_test)\n",
    "\n",
    "# Normalize the decision scores before combination\n",
    "train_scores_norm, test_scores_norm = standardizer(train_scores, test_scores)\n"
   ]
  },
  {
   "cell_type": "code",
   "execution_count": 47,
   "id": "2a28e2e3-729b-428d-9a5d-069fd13fe0e9",
   "metadata": {},
   "outputs": [
    {
     "data": {
      "image/png": "[encoded data removed]",
      "text/plain": [
       "<Figure size 1200x600 with 1 Axes>"
      ]
     },
     "metadata": {},
     "output_type": "display_data"
    }
   ],
   "source": [
    "# Combine the normalized scores by averaging\n",
    "y_train_by_average = average(train_scores_norm)\n",
    "y_test_by_average = average(test_scores_norm)\n",
    "\n",
    "# Calculate a threshold based on the contamination rate for the combined scores\n",
    "contamination_rate = 0.05  # Same contamination rate as used in the models\n",
    "combined_threshold = np.percentile(y_train_by_average, 100 * (1 - contamination_rate))\n",
    "\n",
    "# Plot the histogram of the combined scores with the calculated contamination-based threshold\n",
    "plt.figure(figsize=(12, 6))\n",
    "plt.hist(y_train_by_average, bins='auto', alpha=0.4)\n",
    "plt.title(\"Histogram of Combined Outlier Scores (Averaged)\")\n",
    "plt.axvline(combined_threshold, color='red', linestyle='--', label=f\"Outlier Threshold: {combined_threshold:.2f}\")\n",
    "plt.xlabel('Outlier Score')\n",
    "plt.xlim([-2, 10])  # Adjust x-axis for better readability if needed\n",
    "plt.ylabel('Frequency')\n",
    "plt.legend()\n",
    "plt.show()\n"
   ]
  },
  {
   "cell_type": "markdown",
   "id": "f3b53ea0-fc2a-465c-9546-2d2ea7d2dc1a",
   "metadata": {},
   "source": [
    "#### Visualizing Combined Outlier Scores by Averaging with Contamination-Based Threshold\n",
    "\n",
    "To achieve consistency with the individual Autoencoder model, we calculated a threshold for the combined (averaged) outlier scores based on the same contamination rate of 5%. This threshold was derived directly from the distribution of averaged scores in the training data and serves as a boundary for identifying anomalies.\n",
    "\n",
    "The histogram below shows the distribution of the combined (averaged) outlier scores for the training data:\n",
    "\n",
    "- **Combined Outlier Score Distribution**: Most data points have low outlier scores, indicating they follow normal patterns in the dataset. A smaller set of points with higher scores indicates potential anomalies.\n",
    "- **Threshold Line**: The red dashed line represents the contamination-based threshold of approximately **1.38**. Data points with scores above this line are classified as anomalies.\n",
    "\n",
    "By setting the x-axis limit to `[-2, 10]`, we focused on the most relevant score range, making it easier to interpret the distribution and threshold relationship.\n",
    "\n",
    "This approach provides a stable and robust method for anomaly detection by averaging the results from multiple models and applying a consistent thresholding technique.\n"
   ]
  },
  {
   "cell_type": "code",
   "execution_count": 42,
   "id": "8e16898f-0e34-4c14-82e3-9a239d5a9fe0",
   "metadata": {},
   "outputs": [],
   "source": [
    "def descriptive_stat_threshold(df, pred_score, threshold, feature_names):\n",
    "    \n",
    "    # Convert df to a DataFrame and assign feature names\n",
    "    df = pd.DataFrame(df, columns=feature_names)\n",
    "    \n",
    "    # Add anomaly scores and group labels based on the threshold\n",
    "    df['Anomaly_Score'] = pred_score\n",
    "    df['Group'] = np.where(df['Anomaly_Score'] < threshold, 'Normal', 'Outlier')\n",
    "    \n",
    "    # Count and calculate percentages for each group\n",
    "    cnt = df.groupby('Group')['Anomaly_Score'].count().reset_index().rename(columns={'Anomaly_Score': 'Count'})\n",
    "    cnt['Count %'] = (cnt['Count'] / cnt['Count'].sum()) * 100\n",
    "    \n",
    "    # Calculate mean statistics for each feature within each group\n",
    "    stat = df.groupby('Group').mean().round(2).reset_index()\n",
    "    \n",
    "    # Merge count and mean statistics\n",
    "    stat = cnt.merge(stat, on='Group')\n",
    "    return stat\n"
   ]
  },
  {
   "cell_type": "code",
   "execution_count": 43,
   "id": "3a1a5772-c78c-452d-a532-7c51807d1525",
   "metadata": {},
   "outputs": [
    {
     "data": {
      "text/html": [
       "<div>\n",
       "<style scoped>\n",
       "    .dataframe tbody tr th:only-of-type {\n",
       "        vertical-align: middle;\n",
       "    }\n",
       "\n",
       "    .dataframe tbody tr th {\n",
       "        vertical-align: top;\n",
       "    }\n",
       "\n",
       "    .dataframe thead th {\n",
       "        text-align: right;\n",
       "    }\n",
       "</style>\n",
       "<table border=\"1\" class=\"dataframe\">\n",
       "  <thead>\n",
       "    <tr style=\"text-align: right;\">\n",
       "      <th></th>\n",
       "      <th>Group</th>\n",
       "      <th>Count</th>\n",
       "      <th>Count %</th>\n",
       "      <th>Payment_to_Charge_Ratio</th>\n",
       "      <th>Discharges_per_Dollar</th>\n",
       "      <th>Average_Payment_per_Discharge</th>\n",
       "      <th>Coverage_Ratio</th>\n",
       "      <th>Discharges_per_Medicare_Payment</th>\n",
       "      <th>hospital_efficiency_score</th>\n",
       "      <th>charge_to_payment_ratio</th>\n",
       "      <th>discharge_efficiency</th>\n",
       "      <th>Avg Covered Charge Deviation</th>\n",
       "      <th>Provider Type Discharge Deviation</th>\n",
       "      <th>Weighted DRG Complexity Score</th>\n",
       "      <th>Patient Complexity Ratio</th>\n",
       "      <th>Anomaly_Score</th>\n",
       "    </tr>\n",
       "  </thead>\n",
       "  <tbody>\n",
       "    <tr>\n",
       "      <th>0</th>\n",
       "      <td>Normal</td>\n",
       "      <td>108437</td>\n",
       "      <td>94.999343</td>\n",
       "      <td>0.29</td>\n",
       "      <td>0.01</td>\n",
       "      <td>326.22</td>\n",
       "      <td>0.85</td>\n",
       "      <td>0.01</td>\n",
       "      <td>1341.41</td>\n",
       "      <td>3.70</td>\n",
       "      <td>1341.41</td>\n",
       "      <td>-0.05</td>\n",
       "      <td>-0.08</td>\n",
       "      <td>571.84</td>\n",
       "      <td>0.63</td>\n",
       "      <td>-0.14</td>\n",
       "    </tr>\n",
       "    <tr>\n",
       "      <th>1</th>\n",
       "      <td>Outlier</td>\n",
       "      <td>5708</td>\n",
       "      <td>5.000657</td>\n",
       "      <td>0.27</td>\n",
       "      <td>0.02</td>\n",
       "      <td>947.69</td>\n",
       "      <td>0.85</td>\n",
       "      <td>0.02</td>\n",
       "      <td>4734.71</td>\n",
       "      <td>5.13</td>\n",
       "      <td>4734.71</td>\n",
       "      <td>0.97</td>\n",
       "      <td>1.64</td>\n",
       "      <td>2756.42</td>\n",
       "      <td>3.82</td>\n",
       "      <td>2.73</td>\n",
       "    </tr>\n",
       "  </tbody>\n",
       "</table>\n",
       "</div>"
      ],
      "text/plain": [
       "     Group   Count    Count %  Payment_to_Charge_Ratio  Discharges_per_Dollar  \\\n",
       "0   Normal  108437  94.999343                     0.29                   0.01   \n",
       "1  Outlier    5708   5.000657                     0.27                   0.02   \n",
       "\n",
       "   Average_Payment_per_Discharge  Coverage_Ratio  \\\n",
       "0                         326.22            0.85   \n",
       "1                         947.69            0.85   \n",
       "\n",
       "   Discharges_per_Medicare_Payment  hospital_efficiency_score  \\\n",
       "0                             0.01                    1341.41   \n",
       "1                             0.02                    4734.71   \n",
       "\n",
       "   charge_to_payment_ratio  discharge_efficiency  \\\n",
       "0                     3.70               1341.41   \n",
       "1                     5.13               4734.71   \n",
       "\n",
       "   Avg Covered Charge Deviation  Provider Type Discharge Deviation  \\\n",
       "0                         -0.05                              -0.08   \n",
       "1                          0.97                               1.64   \n",
       "\n",
       "   Weighted DRG Complexity Score  Patient Complexity Ratio  Anomaly_Score  \n",
       "0                         571.84                      0.63          -0.14  \n",
       "1                        2756.42                      3.82           2.73  "
      ]
     },
     "execution_count": 43,
     "metadata": {},
     "output_type": "execute_result"
    }
   ],
   "source": [
    "# Define feature_list based on the column names of X_train\n",
    "feature_list = X_train.columns.tolist()\n",
    "\n",
    "# Call the function with the modified signature\n",
    "descriptive_stat_threshold(X_train, y_train_by_average, threshold_combined, feature_list)\n"
   ]
  },
  {
   "cell_type": "code",
   "execution_count": 44,
   "id": "ba736dc9-4e79-4aa4-84c4-d67b0fd3c525",
   "metadata": {},
   "outputs": [
    {
     "data": {
      "text/html": [
       "<div>\n",
       "<style scoped>\n",
       "    .dataframe tbody tr th:only-of-type {\n",
       "        vertical-align: middle;\n",
       "    }\n",
       "\n",
       "    .dataframe tbody tr th {\n",
       "        vertical-align: top;\n",
       "    }\n",
       "\n",
       "    .dataframe thead th {\n",
       "        text-align: right;\n",
       "    }\n",
       "</style>\n",
       "<table border=\"1\" class=\"dataframe\">\n",
       "  <thead>\n",
       "    <tr style=\"text-align: right;\">\n",
       "      <th></th>\n",
       "      <th>Group</th>\n",
       "      <th>Count</th>\n",
       "      <th>Count %</th>\n",
       "      <th>Payment_to_Charge_Ratio</th>\n",
       "      <th>Discharges_per_Dollar</th>\n",
       "      <th>Average_Payment_per_Discharge</th>\n",
       "      <th>Coverage_Ratio</th>\n",
       "      <th>Discharges_per_Medicare_Payment</th>\n",
       "      <th>hospital_efficiency_score</th>\n",
       "      <th>charge_to_payment_ratio</th>\n",
       "      <th>discharge_efficiency</th>\n",
       "      <th>Avg Covered Charge Deviation</th>\n",
       "      <th>Provider Type Discharge Deviation</th>\n",
       "      <th>Weighted DRG Complexity Score</th>\n",
       "      <th>Patient Complexity Ratio</th>\n",
       "      <th>Anomaly_Score</th>\n",
       "    </tr>\n",
       "  </thead>\n",
       "  <tbody>\n",
       "    <tr>\n",
       "      <th>0</th>\n",
       "      <td>Normal</td>\n",
       "      <td>46514</td>\n",
       "      <td>95.081766</td>\n",
       "      <td>0.29</td>\n",
       "      <td>0.01</td>\n",
       "      <td>326.96</td>\n",
       "      <td>0.85</td>\n",
       "      <td>0.01</td>\n",
       "      <td>1352.09</td>\n",
       "      <td>3.71</td>\n",
       "      <td>1352.09</td>\n",
       "      <td>-0.05</td>\n",
       "      <td>-0.08</td>\n",
       "      <td>570.26</td>\n",
       "      <td>0.63</td>\n",
       "      <td>-0.15</td>\n",
       "    </tr>\n",
       "    <tr>\n",
       "      <th>1</th>\n",
       "      <td>Outlier</td>\n",
       "      <td>2406</td>\n",
       "      <td>4.918234</td>\n",
       "      <td>0.27</td>\n",
       "      <td>0.02</td>\n",
       "      <td>941.95</td>\n",
       "      <td>0.86</td>\n",
       "      <td>0.02</td>\n",
       "      <td>4771.22</td>\n",
       "      <td>5.21</td>\n",
       "      <td>4771.22</td>\n",
       "      <td>1.00</td>\n",
       "      <td>1.55</td>\n",
       "      <td>2555.22</td>\n",
       "      <td>3.43</td>\n",
       "      <td>2.66</td>\n",
       "    </tr>\n",
       "  </tbody>\n",
       "</table>\n",
       "</div>"
      ],
      "text/plain": [
       "     Group  Count    Count %  Payment_to_Charge_Ratio  Discharges_per_Dollar  \\\n",
       "0   Normal  46514  95.081766                     0.29                   0.01   \n",
       "1  Outlier   2406   4.918234                     0.27                   0.02   \n",
       "\n",
       "   Average_Payment_per_Discharge  Coverage_Ratio  \\\n",
       "0                         326.96            0.85   \n",
       "1                         941.95            0.86   \n",
       "\n",
       "   Discharges_per_Medicare_Payment  hospital_efficiency_score  \\\n",
       "0                             0.01                    1352.09   \n",
       "1                             0.02                    4771.22   \n",
       "\n",
       "   charge_to_payment_ratio  discharge_efficiency  \\\n",
       "0                     3.71               1352.09   \n",
       "1                     5.21               4771.22   \n",
       "\n",
       "   Avg Covered Charge Deviation  Provider Type Discharge Deviation  \\\n",
       "0                         -0.05                              -0.08   \n",
       "1                          1.00                               1.55   \n",
       "\n",
       "   Weighted DRG Complexity Score  Patient Complexity Ratio  Anomaly_Score  \n",
       "0                         570.26                      0.63          -0.15  \n",
       "1                        2555.22                      3.43           2.66  "
      ]
     },
     "execution_count": 44,
     "metadata": {},
     "output_type": "execute_result"
    }
   ],
   "source": [
    "# Call the function with the modified signature\n",
    "descriptive_stat_threshold(X_test, y_test_by_average, threshold_combined, feature_list)"
   ]
  },
  {
   "cell_type": "markdown",
   "id": "89d2e681-9531-4d5b-ac39-d475811c76a0",
   "metadata": {},
   "source": [
    "### Descriptive Statistics for Normal and Outlier Groups\n",
    "\n",
    "Using the combined outlier scores from our ensemble of Autoencoder models, we divided the data into two groups: `Normal` and `Outlier`, based on the contamination-based threshold (5%). Below are the summary statistics for both training and test datasets, which provide insights into the characteristics of each group.\n",
    "\n",
    "#### Observations\n",
    "- **Count and Percentage**: In both training and test data, approximately 5% of the observations are classified as outliers, aligning with the contamination rate.\n",
    "- **Average_Payment_per_Discharge**: The average payment per discharge is significantly higher for the outlier group compared to the normal group, indicating that anomalies may be associated with cases involving higher financial costs.\n",
    "- **hospital_efficiency_score and charge_to_payment_ratio**: Outliers exhibit much higher values for both `hospital_efficiency_score` and `charge_to_payment_ratio`, suggesting these features may play a significant role in identifying anomalies.\n",
    "- **Complexity Scores**: The `Weighted DRG Complexity Score` and `Patient Complexity Ratio` are markedly higher in the outlier group, which may indicate that anomalies are more prevalent in complex or resource-intensive cases.\n",
    "\n",
    "These descriptive statistics provide insights into the differences between normal and outlier observations, highlighting which features contribute to the distinction and may be indicative of unusual patterns or cases in the healthcare dataset.\n"
   ]
  },
  {
   "cell_type": "markdown",
   "id": "b5ac0cca-2cb2-4240-904b-c09887e5cb9e",
   "metadata": {},
   "source": [
    "## Implementing Isolation Forest for Anomaly Detection\n",
    "\n",
    "Isolation Forest is an ensemble-based anomaly detection method that isolates observations by randomly selecting a feature and then randomly selecting a split value between the maximum and minimum values of the selected feature. The algorithm is particularly effective for high-dimensional data and can efficiently identify anomalies by focusing on their relative isolation in the feature space.\n",
    "\n",
    "We configure the Isolation Forest model with the same contamination rate (5%) used in the Autoencoder model to ensure consistency in identifying anomalies. This section will include training the model, scoring outliers, visualizing results, and generating descriptive statistics for normal and outlier groups.\n",
    "\n",
    "#### Outlier Scoring and Prediction\n",
    "\n",
    "After training the Isolation Forest model, we compute anomaly scores for both training and test datasets. Points with higher anomaly scores are considered potential outliers. We also generate binary predictions (0 for normal, 1 for outlier) for each observation.\n"
   ]
  },
  {
   "cell_type": "code",
   "execution_count": 50,
   "id": "9a292863-5911-4c95-a7de-a39b25fffe9b",
   "metadata": {},
   "outputs": [
    {
     "name": "stdout",
     "output_type": "stream",
     "text": [
      "Isolation Forest Outlier Threshold: -6.804628593855581e-17\n"
     ]
    },
    {
     "data": {
      "text/plain": [
       "IForest(behaviour='old', bootstrap=False, contamination=0.05,\n",
       "    max_features=1.0, max_samples='auto', n_estimators=100, n_jobs=1,\n",
       "    random_state=0, verbose=0)"
      ]
     },
     "execution_count": 50,
     "metadata": {},
     "output_type": "execute_result"
    }
   ],
   "source": [
    "from pyod.models.iforest import IForest\n",
    "\n",
    "# Initialize the Isolation Forest model with a 5% contamination rate\n",
    "iforest = IForest(contamination=0.05, random_state=0)\n",
    "\n",
    "# Convert X_train and X_test to numpy arrays\n",
    "X_train_np = X_train.values\n",
    "X_test_np = X_test.values\n",
    "\n",
    "# Fit the Isolation Forest model on the training data without feature names\n",
    "iforest.fit(X_train_np)\n",
    "\n",
    "# Compute anomaly scores and predictions using numpy arrays\n",
    "y_train_scores_iforest = iforest.decision_function(X_train_np)\n",
    "y_train_pred_iforest = iforest.predict(X_train_np)\n",
    "\n",
    "y_test_scores_iforest = iforest.decision_function(X_test_np)\n",
    "y_test_pred_iforest = iforest.predict(X_test_np)\n",
    "\n",
    "# Print the Isolation Forest outlier threshold\n",
    "print(\"Isolation Forest Outlier Threshold:\", iforest.threshold_)\n",
    "\n",
    "# Fit the Isolation Forest model on the training data\n",
    "iforest.fit(X_train)"
   ]
  },
  {
   "cell_type": "code",
   "execution_count": 55,
   "id": "b0555f4d-a0f3-4290-b3b9-82819137dc81",
   "metadata": {},
   "outputs": [
    {
     "name": "stdout",
     "output_type": "stream",
     "text": [
      "The training data: {0: 108437, 1: 5708}\n",
      "The test data: {0: 46482, 1: 2438}\n"
     ]
    }
   ],
   "source": [
    "def count_stat(vector):\n",
    "    # Because it is '0' and '1', we can run a count statistic.\n",
    "    unique, counts = np.unique(vector, return_counts=True)\n",
    "    return dict(zip(unique, counts))\n",
    "\n",
    "print(\"The training data:\", count_stat(y_train_pred))\n",
    "print(\"The test data:\", count_stat(y_test_pred))"
   ]
  },
  {
   "cell_type": "markdown",
   "id": "c1903f88-131f-4b1e-af8a-4e8ee0ccbc06",
   "metadata": {},
   "source": [
    "#### Isolation Forest Outlier Detection Results\n",
    "\n",
    "After training the Isolation Forest model with a contamination rate of 5%, we used the model's built-in threshold of approximately **-6.80e-17** to classify data points as normal or anomalous. The model produced the following results for both the training and test datasets:\n",
    "\n",
    "- **Training Data**: Out of 114,145 observations, the model identified **5,708 (5%)** as outliers, with the remaining **108,437 (95%)** classified as normal. This aligns closely with the specified contamination rate, indicating that the model successfully targeted the expected proportion of anomalies.\n",
    "\n",
    "- **Test Data**: Out of 48,920 observations, **2,438 (5%)** were classified as outliers, while **46,482 (95%)** were deemed normal. The test data results also align well with the 5% contamination rate, suggesting that the model’s anomaly detection criteria generalized effectively to new data.\n",
    "\n",
    "These results indicate that the Isolation Forest model achieved consistent anomaly detection across both training and test datasets, maintaining the contamination rate and identifying a comparable proportion of anomalies. This consistency enhances our confidence in the model’s ability to detect outliers in unseen data.\n"
   ]
  },
  {
   "cell_type": "code",
   "execution_count": 59,
   "id": "af1d1275-b841-4e3d-bdac-ee0c798351d4",
   "metadata": {},
   "outputs": [
    {
     "data": {
      "text/plain": [
       "array([0.0938096 , 0.08154554, 0.08238897, 0.08590904, 0.08504334,\n",
       "       0.08227272, 0.08231822, 0.08127838, 0.07826331, 0.07292631,\n",
       "       0.08304954, 0.09119504])"
      ]
     },
     "execution_count": 59,
     "metadata": {},
     "output_type": "execute_result"
    }
   ],
   "source": [
    "# Extract feature importances from the Isolation Forest model\n",
    "isft_vi = iforest.feature_importances_\n",
    "isft_vi"
   ]
  },
  {
   "cell_type": "code",
   "execution_count": 60,
   "id": "a0c84cde-4f60-468f-82bd-26320a16d780",
   "metadata": {},
   "outputs": [
    {
     "data": {
      "text/plain": [
       "<Figure size 1000x800 with 0 Axes>"
      ]
     },
     "metadata": {},
     "output_type": "display_data"
    },
    {
     "data": {
      "image/png": "[encoded data removed]",
      "text/plain": [
       "<Figure size 640x480 with 1 Axes>"
      ]
     },
     "metadata": {},
     "output_type": "display_data"
    }
   ],
   "source": [
    "# Create a DataFrame for plotting\n",
    "for_plot = pd.DataFrame({'Feature': X_train.columns, 'Importance': isft_vi}).sort_values(by='Importance', ascending=True)\n",
    "\n",
    "# Plot the feature importances\n",
    "plt.figure(figsize=(10, 8))\n",
    "for_plot.plot.barh(x='Feature', y='Importance', legend=False, color='skyblue')\n",
    "plt.title('Feature Importances from Isolation Forest Model')\n",
    "plt.xlabel('Importance')\n",
    "plt.ylabel('Features')\n",
    "plt.show()\n"
   ]
  },
  {
   "cell_type": "markdown",
   "id": "52716222-a19b-429b-826c-faaf607c4f87",
   "metadata": {},
   "source": [
    "#### Key Takeaways from Isolation Forest Feature Importances\n",
    "\n",
    "The feature importance plot from the Isolation Forest model provides insights into which features contribute most to the identification of anomalies in the dataset. Here are some key observations:\n",
    "\n",
    "- **Top Contributing Features**:\n",
    "  - **Payment_to_Charge_Ratio** and **Patient Complexity Ratio** are the most influential features in detecting anomalies. This suggests that anomalies are strongly associated with cases where payment patterns relative to charges and patient complexity are unusual.\n",
    "  - **Coverage_Ratio** and **Discharges_per_Medicare_Payment** also hold significant importance, indicating that deviations in coverage and discharge metrics relative to Medicare payments play a critical role in identifying outliers.\n",
    "\n",
    "- **Middle-Ranked Features**:\n",
    "  - Features such as **Weighted DRG Complexity Score**, **Average_Payment_per_Discharge**, and **charge_to_payment_ratio** have moderate importance. These features may also indicate anomalous patterns in cost, discharge, and complexity when they deviate from expected norms.\n",
    "  \n",
    "- **Lower Contributing Features**:\n",
    "  - **Provider Type Discharge Deviation** and **Avg Covered Charge Deviation** have the least importance, suggesting that these features may have limited influence on the model’s ability to detect anomalies. However, they could still provide contextual information that complements the more influential features.\n"
   ]
  },
  {
   "cell_type": "markdown",
   "id": "e15a8a21-5036-46ba-9480-0c04e409cfec",
   "metadata": {},
   "source": [
    "#### Histogram of Isolation Forest Outlier Scores\n",
    "\n",
    "The histogram below illustrates the distribution of outlier scores for the training data as calculated by the Isolation Forest model. The red dashed line represents the model's contamination-based threshold, which classifies data points above this score as anomalies.\n",
    "\n",
    "By setting a threshold using Isolation Forest’s built-in threshold, we ensure consistency with the model’s detection criteria. Observations to the right of this threshold are classified as potential outliers.\n"
   ]
  },
  {
   "cell_type": "code",
   "execution_count": 53,
   "id": "137dbbbf-ee7a-4eef-b032-8583f87ce2c9",
   "metadata": {},
   "outputs": [
    {
     "data": {
      "image/png": "[encoded data removed]",
      "text/plain": [
       "<Figure size 1200x600 with 1 Axes>"
      ]
     },
     "metadata": {},
     "output_type": "display_data"
    }
   ],
   "source": [
    "# Plot the histogram of the Isolation Forest outlier scores for the training data\n",
    "plt.figure(figsize=(12, 6))\n",
    "plt.hist(y_train_scores_iforest, bins='auto', alpha=0.4)\n",
    "plt.title(\"Histogram of Isolation Forest Outlier Scores\")\n",
    "plt.axvline(iforest.threshold_, color='red', linestyle='--', label=f\"Outlier Threshold: {iforest.threshold_:.2f}\")\n",
    "plt.xlabel('Outlier Score')\n",
    "plt.xlim([-0.5, 0.5])  # Adjust x-axis for better readability if needed\n",
    "plt.ylabel('Frequency')\n",
    "plt.legend()\n",
    "plt.show()\n"
   ]
  },
  {
   "cell_type": "markdown",
   "id": "5cc2ab7d-7eee-4aca-9a07-846cf2f4c382",
   "metadata": {},
   "source": [
    "### Analysis of Isolation Forest Outlier Scores Histogram\n",
    "\n",
    "The histogram of Isolation Forest outlier scores for the training data shows a heavily right-skewed distribution, with most data points concentrated near zero or slightly below it. This distribution pattern suggests that the majority of observations are classified as normal, with relatively low outlier scores.\n",
    "\n",
    "Key observations:\n",
    "\n",
    "- **Threshold Line**: The red dashed line at approximately 0.00 represents the model's outlier threshold, based on a contamination rate of 5%. Points with scores above this line are classified as outliers.\n",
    "- **Concentration of Normal Scores**: Most data points fall below the threshold, indicating that the Isolation Forest model considers them as normal. This concentration around the lower end aligns with expectations, as outliers are generally sparse in the dataset.\n",
    "- **Right-Skewed Distribution**: A smaller set of observations extends towards higher scores on the right side of the histogram. These points represent potential anomalies, which are more isolated according to the Isolation Forest model.\n",
    "\n",
    "This visualization effectively separates normal data points from anomalies, providing a clear cutoff for identifying outliers. The chosen threshold aligns with the model’s contamination rate, ensuring consistency in outlier classification.\n"
   ]
  },
  {
   "cell_type": "code",
   "execution_count": 56,
   "id": "caaafdb0-8e29-4015-9fac-91795dfbe84a",
   "metadata": {},
   "outputs": [
    {
     "data": {
      "text/html": [
       "<div>\n",
       "<style scoped>\n",
       "    .dataframe tbody tr th:only-of-type {\n",
       "        vertical-align: middle;\n",
       "    }\n",
       "\n",
       "    .dataframe tbody tr th {\n",
       "        vertical-align: top;\n",
       "    }\n",
       "\n",
       "    .dataframe thead th {\n",
       "        text-align: right;\n",
       "    }\n",
       "</style>\n",
       "<table border=\"1\" class=\"dataframe\">\n",
       "  <thead>\n",
       "    <tr style=\"text-align: right;\">\n",
       "      <th></th>\n",
       "      <th>Group</th>\n",
       "      <th>Count</th>\n",
       "      <th>Count %</th>\n",
       "      <th>Payment_to_Charge_Ratio</th>\n",
       "      <th>Discharges_per_Dollar</th>\n",
       "      <th>Average_Payment_per_Discharge</th>\n",
       "      <th>Coverage_Ratio</th>\n",
       "      <th>Discharges_per_Medicare_Payment</th>\n",
       "      <th>hospital_efficiency_score</th>\n",
       "      <th>charge_to_payment_ratio</th>\n",
       "      <th>discharge_efficiency</th>\n",
       "      <th>Avg Covered Charge Deviation</th>\n",
       "      <th>Provider Type Discharge Deviation</th>\n",
       "      <th>Weighted DRG Complexity Score</th>\n",
       "      <th>Patient Complexity Ratio</th>\n",
       "      <th>Anomaly_Score</th>\n",
       "    </tr>\n",
       "  </thead>\n",
       "  <tbody>\n",
       "    <tr>\n",
       "      <th>0</th>\n",
       "      <td>Normal</td>\n",
       "      <td>108437</td>\n",
       "      <td>94.999343</td>\n",
       "      <td>0.29</td>\n",
       "      <td>0.01</td>\n",
       "      <td>334.54</td>\n",
       "      <td>0.85</td>\n",
       "      <td>0.01</td>\n",
       "      <td>1369.28</td>\n",
       "      <td>3.7</td>\n",
       "      <td>1369.28</td>\n",
       "      <td>-0.05</td>\n",
       "      <td>-0.10</td>\n",
       "      <td>557.61</td>\n",
       "      <td>0.61</td>\n",
       "      <td>-0.13</td>\n",
       "    </tr>\n",
       "    <tr>\n",
       "      <th>1</th>\n",
       "      <td>Outlier</td>\n",
       "      <td>5708</td>\n",
       "      <td>5.000657</td>\n",
       "      <td>0.27</td>\n",
       "      <td>0.02</td>\n",
       "      <td>789.55</td>\n",
       "      <td>0.85</td>\n",
       "      <td>0.02</td>\n",
       "      <td>4205.10</td>\n",
       "      <td>5.2</td>\n",
       "      <td>4205.10</td>\n",
       "      <td>0.94</td>\n",
       "      <td>1.88</td>\n",
       "      <td>3026.76</td>\n",
       "      <td>4.13</td>\n",
       "      <td>0.05</td>\n",
       "    </tr>\n",
       "  </tbody>\n",
       "</table>\n",
       "</div>"
      ],
      "text/plain": [
       "     Group   Count    Count %  Payment_to_Charge_Ratio  Discharges_per_Dollar  \\\n",
       "0   Normal  108437  94.999343                     0.29                   0.01   \n",
       "1  Outlier    5708   5.000657                     0.27                   0.02   \n",
       "\n",
       "   Average_Payment_per_Discharge  Coverage_Ratio  \\\n",
       "0                         334.54            0.85   \n",
       "1                         789.55            0.85   \n",
       "\n",
       "   Discharges_per_Medicare_Payment  hospital_efficiency_score  \\\n",
       "0                             0.01                    1369.28   \n",
       "1                             0.02                    4205.10   \n",
       "\n",
       "   charge_to_payment_ratio  discharge_efficiency  \\\n",
       "0                      3.7               1369.28   \n",
       "1                      5.2               4205.10   \n",
       "\n",
       "   Avg Covered Charge Deviation  Provider Type Discharge Deviation  \\\n",
       "0                         -0.05                              -0.10   \n",
       "1                          0.94                               1.88   \n",
       "\n",
       "   Weighted DRG Complexity Score  Patient Complexity Ratio  Anomaly_Score  \n",
       "0                         557.61                      0.61          -0.13  \n",
       "1                        3026.76                      4.13           0.05  "
      ]
     },
     "execution_count": 56,
     "metadata": {},
     "output_type": "execute_result"
    }
   ],
   "source": [
    "# Generate descriptive statistics for the training data\n",
    "descriptive_stat_threshold(X_train, y_train_scores_iforest, iforest.threshold_, feature_list)"
   ]
  },
  {
   "cell_type": "code",
   "execution_count": 57,
   "id": "9a150fb1-418d-4da1-94f7-4e7bafa95680",
   "metadata": {},
   "outputs": [
    {
     "data": {
      "text/html": [
       "<div>\n",
       "<style scoped>\n",
       "    .dataframe tbody tr th:only-of-type {\n",
       "        vertical-align: middle;\n",
       "    }\n",
       "\n",
       "    .dataframe tbody tr th {\n",
       "        vertical-align: top;\n",
       "    }\n",
       "\n",
       "    .dataframe thead th {\n",
       "        text-align: right;\n",
       "    }\n",
       "</style>\n",
       "<table border=\"1\" class=\"dataframe\">\n",
       "  <thead>\n",
       "    <tr style=\"text-align: right;\">\n",
       "      <th></th>\n",
       "      <th>Group</th>\n",
       "      <th>Count</th>\n",
       "      <th>Count %</th>\n",
       "      <th>Payment_to_Charge_Ratio</th>\n",
       "      <th>Discharges_per_Dollar</th>\n",
       "      <th>Average_Payment_per_Discharge</th>\n",
       "      <th>Coverage_Ratio</th>\n",
       "      <th>Discharges_per_Medicare_Payment</th>\n",
       "      <th>hospital_efficiency_score</th>\n",
       "      <th>charge_to_payment_ratio</th>\n",
       "      <th>discharge_efficiency</th>\n",
       "      <th>Avg Covered Charge Deviation</th>\n",
       "      <th>Provider Type Discharge Deviation</th>\n",
       "      <th>Weighted DRG Complexity Score</th>\n",
       "      <th>Patient Complexity Ratio</th>\n",
       "      <th>Anomaly_Score</th>\n",
       "    </tr>\n",
       "  </thead>\n",
       "  <tbody>\n",
       "    <tr>\n",
       "      <th>0</th>\n",
       "      <td>Normal</td>\n",
       "      <td>46495</td>\n",
       "      <td>95.042927</td>\n",
       "      <td>0.29</td>\n",
       "      <td>0.01</td>\n",
       "      <td>334.65</td>\n",
       "      <td>0.85</td>\n",
       "      <td>0.01</td>\n",
       "      <td>1380.41</td>\n",
       "      <td>3.71</td>\n",
       "      <td>1380.41</td>\n",
       "      <td>-0.05</td>\n",
       "      <td>-0.10</td>\n",
       "      <td>554.26</td>\n",
       "      <td>0.61</td>\n",
       "      <td>-0.13</td>\n",
       "    </tr>\n",
       "    <tr>\n",
       "      <th>1</th>\n",
       "      <td>Outlier</td>\n",
       "      <td>2425</td>\n",
       "      <td>4.957073</td>\n",
       "      <td>0.28</td>\n",
       "      <td>0.02</td>\n",
       "      <td>789.66</td>\n",
       "      <td>0.86</td>\n",
       "      <td>0.02</td>\n",
       "      <td>4201.46</td>\n",
       "      <td>5.21</td>\n",
       "      <td>4201.46</td>\n",
       "      <td>0.96</td>\n",
       "      <td>1.79</td>\n",
       "      <td>2846.50</td>\n",
       "      <td>3.72</td>\n",
       "      <td>0.05</td>\n",
       "    </tr>\n",
       "  </tbody>\n",
       "</table>\n",
       "</div>"
      ],
      "text/plain": [
       "     Group  Count    Count %  Payment_to_Charge_Ratio  Discharges_per_Dollar  \\\n",
       "0   Normal  46495  95.042927                     0.29                   0.01   \n",
       "1  Outlier   2425   4.957073                     0.28                   0.02   \n",
       "\n",
       "   Average_Payment_per_Discharge  Coverage_Ratio  \\\n",
       "0                         334.65            0.85   \n",
       "1                         789.66            0.86   \n",
       "\n",
       "   Discharges_per_Medicare_Payment  hospital_efficiency_score  \\\n",
       "0                             0.01                    1380.41   \n",
       "1                             0.02                    4201.46   \n",
       "\n",
       "   charge_to_payment_ratio  discharge_efficiency  \\\n",
       "0                     3.71               1380.41   \n",
       "1                     5.21               4201.46   \n",
       "\n",
       "   Avg Covered Charge Deviation  Provider Type Discharge Deviation  \\\n",
       "0                         -0.05                              -0.10   \n",
       "1                          0.96                               1.79   \n",
       "\n",
       "   Weighted DRG Complexity Score  Patient Complexity Ratio  Anomaly_Score  \n",
       "0                         554.26                      0.61          -0.13  \n",
       "1                        2846.50                      3.72           0.05  "
      ]
     },
     "execution_count": 57,
     "metadata": {},
     "output_type": "execute_result"
    }
   ],
   "source": [
    "# Generate descriptive statistics for the test data\n",
    "descriptive_stat_threshold(X_test, y_test_scores_iforest, iforest.threshold_, feature_list)"
   ]
  },
  {
   "cell_type": "markdown",
   "id": "9dfaafda-fabd-4ef7-9199-6de0d868423e",
   "metadata": {},
   "source": [
    "### Descriptive Statistics for Normal and Outlier Groups (Isolation Forest)\n",
    "\n",
    "The summary statistics for the `Normal` and `Outlier` groups reveal notable differences between these groups across various features. Below are the key observations based on the training and test data results:\n",
    "\n",
    "#### Key Observations:\n",
    "\n",
    "- **Count and Percentage**: \n",
    "  - Both the training and test datasets have approximately 5% of observations classified as outliers, aligning with the model's contamination rate.\n",
    "  \n",
    "- **Average_Payment_per_Discharge**: \n",
    "  - Outliers show significantly higher average payments per discharge compared to normal observations. For instance, in the training data, outliers have an average payment of **789.55** versus **334.54** for normal observations. This suggests that anomalies may be associated with cases involving higher costs.\n",
    "\n",
    "- **hospital_efficiency_score and charge_to_payment_ratio**: \n",
    "  - Outliers exhibit much higher values for both `hospital_efficiency_score` and `charge_to_payment_ratio`. In the training data, outliers have a `hospital_efficiency_score` of **4205.10** and a `charge_to_payment_ratio` of **5.2**, compared to **1369.28** and **3.7** for normal cases, respectively. These features may play a significant role in distinguishing anomalies from normal cases.\n",
    "\n",
    "- **Complexity Scores**: \n",
    "  - The `Weighted DRG Complexity Score` and `Patient Complexity Ratio` are notably higher for outliers, indicating that these observations are likely to involve more complex or resource-intensive cases. For instance, in the training data, outliers have a `Weighted DRG Complexity Score` of **3026.76** compared to **557.61** for normal cases.\n",
    "\n",
    "- **Other Feature Differences**:\n",
    "  - `Avg Covered Charge Deviation` and `Provider Type Discharge Deviation` are also higher for outliers, suggesting these may be additional indicators of anomalous cases.\n",
    "\n",
    "#### Conclusion:\n",
    "The descriptive statistics indicate that outliers identified by the Isolation Forest model tend to have higher financial metrics, efficiency scores, and complexity levels. This pattern suggests that the model is effectively identifying high-cost, high-complexity cases as anomalies, which could warrant further investigation in a healthcare context.\n"
   ]
  },
  {
   "cell_type": "markdown",
   "id": "d75c3a75-702f-4efa-a2c3-1136c902660d",
   "metadata": {},
   "source": [
    "### Combining Multiple Isolation Forest Models\n",
    "\n",
    "To enhance the robustness of anomaly detection, we combine the results of multiple Isolation Forest models, each configured with a different number of base estimators (`n_estimators`). This approach leverages the diversity of model outputs to improve the overall detection capability.\n"
   ]
  },
  {
   "cell_type": "code",
   "execution_count": 61,
   "id": "3d53bea6-4ef3-4838-a40d-43cbb8c0e957",
   "metadata": {},
   "outputs": [],
   "source": [
    "# Define a list of n_estimators values to test\n",
    "n_estimators_list = [100, 200, 300, 400, 500]\n",
    "n_clf = len(n_estimators_list)  # Number of models to be combined\n",
    "\n",
    "# Prepare arrays to store the decision scores for each model\n",
    "train_scores = np.zeros([X_train.shape[0], n_clf])\n",
    "test_scores = np.zeros([X_test.shape[0], n_clf])\n"
   ]
  },
  {
   "cell_type": "code",
   "execution_count": 62,
   "id": "596d37f7-fc56-47cb-95e8-476ce841393c",
   "metadata": {},
   "outputs": [],
   "source": [
    "# Train multiple Isolation Forest models and store their scores\n",
    "for i in range(n_clf):\n",
    "    n_estimators = n_estimators_list[i]\n",
    "    \n",
    "    # Initialize Isolation Forest with specified n_estimators\n",
    "    isft = IForest(contamination=0.05, n_estimators=n_estimators, random_state=0)\n",
    "    isft.fit(X_train.values)  # Fit on training data\n",
    "    \n",
    "    # Store the decision scores in each column of the train_scores and test_scores arrays\n",
    "    train_scores[:, i] = isft.decision_function(X_train.values)\n",
    "    test_scores[:, i] = isft.decision_function(X_test.values)\n"
   ]
  },
  {
   "cell_type": "markdown",
   "id": "7332da1b-4b9c-4022-9971-7b0d502e708f",
   "metadata": {},
   "source": [
    "### Normalization and Combination of Outlier Scores\n",
    "\n",
    "After obtaining outlier scores from multiple models, we normalize these scores to ensure consistency across models. We then combine the normalized scores by averaging, which allows us to leverage the collective output of all models for more robust anomaly detection.\n"
   ]
  },
  {
   "cell_type": "code",
   "execution_count": 63,
   "id": "19bcc565-925b-40e4-b0e9-f9446abc14d9",
   "metadata": {},
   "outputs": [],
   "source": [
    "# Normalize the decision scores before combination\n",
    "train_scores_norm, test_scores_norm = standardizer(train_scores, test_scores)\n",
    "\n",
    "# Combine the normalized scores by averaging\n",
    "y_train_by_average = average(train_scores_norm)\n",
    "y_test_by_average = average(test_scores_norm)\n"
   ]
  },
  {
   "cell_type": "code",
   "execution_count": 64,
   "id": "a6f311e2-51ce-4993-8fdb-47b0dd94b801",
   "metadata": {},
   "outputs": [
    {
     "name": "stdout",
     "output_type": "stream",
     "text": [
      "Combined Outlier Threshold (Averaged Scores): 2.107353409710528\n"
     ]
    }
   ],
   "source": [
    "# Calculate the threshold based on the contamination rate for combined scores\n",
    "contamination_rate = 0.05\n",
    "combined_threshold_iforest = np.percentile(y_train_by_average, 100 * (1 - contamination_rate))\n",
    "\n",
    "# Print the calculated threshold for reference\n",
    "print(\"Combined Outlier Threshold (Averaged Scores):\", combined_threshold_iforest)\n"
   ]
  },
  {
   "cell_type": "markdown",
   "id": "28164a22-535d-4a21-817d-80d30999651b",
   "metadata": {},
   "source": [
    "### Histogram of Combined Isolation Forest Outlier Scores\n",
    "\n",
    "The histogram below illustrates the distribution of the averaged outlier scores from multiple Isolation Forest models for the training dataset. The red dashed line indicates the calculated threshold used to classify anomalies.\n"
   ]
  },
  {
   "cell_type": "code",
   "execution_count": 66,
   "id": "19419d68-d6b1-49be-9105-999d8d6c48f7",
   "metadata": {},
   "outputs": [
    {
     "data": {
      "image/png": "[encoded data removed]",
      "text/plain": [
       "<Figure size 1200x600 with 1 Axes>"
      ]
     },
     "metadata": {},
     "output_type": "display_data"
    }
   ],
   "source": [
    "# Plot the histogram of the combined scores for the training data with the calculated threshold\n",
    "plt.figure(figsize=(12, 6))\n",
    "plt.hist(y_train_by_average, bins='auto', alpha=0.4, color='skyblue')\n",
    "plt.title(\"Histogram of Combined Isolation Forest Outlier Scores (Averaged)\")\n",
    "plt.axvline(combined_threshold_iforest, color='red', linestyle='--', label=f\"Outlier Threshold: {combined_threshold_iforest:.2f}\")\n",
    "plt.xlabel('Outlier Score')\n",
    "plt.xlim([-2, 8])  # Adjust x-axis as needed for readability\n",
    "plt.ylabel('Frequency')\n",
    "plt.legend()\n",
    "plt.show()\n"
   ]
  },
  {
   "cell_type": "markdown",
   "id": "67ae30d0-48d8-4098-9a45-e6782d3f2cdb",
   "metadata": {},
   "source": [
    "### Analysis of Combined Isolation Forest Outlier Scores (Averaged)\n",
    "\n",
    "The histogram of the averaged outlier scores from multiple Isolation Forest models for the training data provides a clear visualization of the distribution of scores. Key observations include:\n",
    "\n",
    "- **Threshold Line**: The red dashed line represents the calculated threshold of approximately **2.11** based on the contamination rate of 5%. Observations with scores above this threshold are classified as anomalies.\n",
    "- **Concentration of Scores**: The majority of the data points are concentrated below the threshold, with a large peak around zero. This indicates that most observations are classified as normal, as expected.\n",
    "- **Right-Tailed Distribution**: The distribution is right-skewed, with fewer observations having high outlier scores. These points on the right side of the threshold are potential anomalies, isolated by the combination of multiple Isolation Forest models.\n",
    "  \n",
    "This visualization confirms that the combined model effectively separates normal observations from anomalies by leveraging the averaged outlier scores across multiple Isolation Forest models. The threshold, calculated based on the desired contamination rate, provides a consistent cutoff for identifying outliers.\n"
   ]
  },
  {
   "cell_type": "code",
   "execution_count": 67,
   "id": "171aa13e-a8d6-402c-9bb0-6269ddb5181a",
   "metadata": {},
   "outputs": [
    {
     "data": {
      "text/html": [
       "<div>\n",
       "<style scoped>\n",
       "    .dataframe tbody tr th:only-of-type {\n",
       "        vertical-align: middle;\n",
       "    }\n",
       "\n",
       "    .dataframe tbody tr th {\n",
       "        vertical-align: top;\n",
       "    }\n",
       "\n",
       "    .dataframe thead th {\n",
       "        text-align: right;\n",
       "    }\n",
       "</style>\n",
       "<table border=\"1\" class=\"dataframe\">\n",
       "  <thead>\n",
       "    <tr style=\"text-align: right;\">\n",
       "      <th></th>\n",
       "      <th>Group</th>\n",
       "      <th>Count</th>\n",
       "      <th>Count %</th>\n",
       "      <th>Payment_to_Charge_Ratio</th>\n",
       "      <th>Discharges_per_Dollar</th>\n",
       "      <th>Average_Payment_per_Discharge</th>\n",
       "      <th>Coverage_Ratio</th>\n",
       "      <th>Discharges_per_Medicare_Payment</th>\n",
       "      <th>hospital_efficiency_score</th>\n",
       "      <th>charge_to_payment_ratio</th>\n",
       "      <th>discharge_efficiency</th>\n",
       "      <th>Avg Covered Charge Deviation</th>\n",
       "      <th>Provider Type Discharge Deviation</th>\n",
       "      <th>Weighted DRG Complexity Score</th>\n",
       "      <th>Patient Complexity Ratio</th>\n",
       "      <th>Anomaly_Score</th>\n",
       "    </tr>\n",
       "  </thead>\n",
       "  <tbody>\n",
       "    <tr>\n",
       "      <th>0</th>\n",
       "      <td>Normal</td>\n",
       "      <td>108437</td>\n",
       "      <td>94.999343</td>\n",
       "      <td>0.29</td>\n",
       "      <td>0.01</td>\n",
       "      <td>329.81</td>\n",
       "      <td>0.85</td>\n",
       "      <td>0.01</td>\n",
       "      <td>1355.08</td>\n",
       "      <td>3.71</td>\n",
       "      <td>1355.08</td>\n",
       "      <td>-0.05</td>\n",
       "      <td>-0.09</td>\n",
       "      <td>554.91</td>\n",
       "      <td>0.61</td>\n",
       "      <td>-0.16</td>\n",
       "    </tr>\n",
       "    <tr>\n",
       "      <th>1</th>\n",
       "      <td>Outlier</td>\n",
       "      <td>5708</td>\n",
       "      <td>5.000657</td>\n",
       "      <td>0.28</td>\n",
       "      <td>0.02</td>\n",
       "      <td>879.47</td>\n",
       "      <td>0.86</td>\n",
       "      <td>0.02</td>\n",
       "      <td>4474.85</td>\n",
       "      <td>4.96</td>\n",
       "      <td>4474.85</td>\n",
       "      <td>0.84</td>\n",
       "      <td>1.84</td>\n",
       "      <td>3078.04</td>\n",
       "      <td>4.11</td>\n",
       "      <td>2.99</td>\n",
       "    </tr>\n",
       "  </tbody>\n",
       "</table>\n",
       "</div>"
      ],
      "text/plain": [
       "     Group   Count    Count %  Payment_to_Charge_Ratio  Discharges_per_Dollar  \\\n",
       "0   Normal  108437  94.999343                     0.29                   0.01   \n",
       "1  Outlier    5708   5.000657                     0.28                   0.02   \n",
       "\n",
       "   Average_Payment_per_Discharge  Coverage_Ratio  \\\n",
       "0                         329.81            0.85   \n",
       "1                         879.47            0.86   \n",
       "\n",
       "   Discharges_per_Medicare_Payment  hospital_efficiency_score  \\\n",
       "0                             0.01                    1355.08   \n",
       "1                             0.02                    4474.85   \n",
       "\n",
       "   charge_to_payment_ratio  discharge_efficiency  \\\n",
       "0                     3.71               1355.08   \n",
       "1                     4.96               4474.85   \n",
       "\n",
       "   Avg Covered Charge Deviation  Provider Type Discharge Deviation  \\\n",
       "0                         -0.05                              -0.09   \n",
       "1                          0.84                               1.84   \n",
       "\n",
       "   Weighted DRG Complexity Score  Patient Complexity Ratio  Anomaly_Score  \n",
       "0                         554.91                      0.61          -0.16  \n",
       "1                        3078.04                      4.11           2.99  "
      ]
     },
     "execution_count": 67,
     "metadata": {},
     "output_type": "execute_result"
    }
   ],
   "source": [
    "# Compute descriptive statistics for training data using combined scores\n",
    "descriptive_stat_threshold(X_train, y_train_by_average, combined_threshold_iforest, feature_list)"
   ]
  },
  {
   "cell_type": "code",
   "execution_count": 68,
   "id": "0e21fe43-b4c3-47d8-808f-5aefdb5e0b4e",
   "metadata": {},
   "outputs": [
    {
     "data": {
      "text/html": [
       "<div>\n",
       "<style scoped>\n",
       "    .dataframe tbody tr th:only-of-type {\n",
       "        vertical-align: middle;\n",
       "    }\n",
       "\n",
       "    .dataframe tbody tr th {\n",
       "        vertical-align: top;\n",
       "    }\n",
       "\n",
       "    .dataframe thead th {\n",
       "        text-align: right;\n",
       "    }\n",
       "</style>\n",
       "<table border=\"1\" class=\"dataframe\">\n",
       "  <thead>\n",
       "    <tr style=\"text-align: right;\">\n",
       "      <th></th>\n",
       "      <th>Group</th>\n",
       "      <th>Count</th>\n",
       "      <th>Count %</th>\n",
       "      <th>Payment_to_Charge_Ratio</th>\n",
       "      <th>Discharges_per_Dollar</th>\n",
       "      <th>Average_Payment_per_Discharge</th>\n",
       "      <th>Coverage_Ratio</th>\n",
       "      <th>Discharges_per_Medicare_Payment</th>\n",
       "      <th>hospital_efficiency_score</th>\n",
       "      <th>charge_to_payment_ratio</th>\n",
       "      <th>discharge_efficiency</th>\n",
       "      <th>Avg Covered Charge Deviation</th>\n",
       "      <th>Provider Type Discharge Deviation</th>\n",
       "      <th>Weighted DRG Complexity Score</th>\n",
       "      <th>Patient Complexity Ratio</th>\n",
       "      <th>Anomaly_Score</th>\n",
       "    </tr>\n",
       "  </thead>\n",
       "  <tbody>\n",
       "    <tr>\n",
       "      <th>0</th>\n",
       "      <td>Normal</td>\n",
       "      <td>46481</td>\n",
       "      <td>95.014309</td>\n",
       "      <td>0.28</td>\n",
       "      <td>0.01</td>\n",
       "      <td>330.03</td>\n",
       "      <td>0.85</td>\n",
       "      <td>0.01</td>\n",
       "      <td>1364.70</td>\n",
       "      <td>3.72</td>\n",
       "      <td>1364.70</td>\n",
       "      <td>-0.04</td>\n",
       "      <td>-0.10</td>\n",
       "      <td>550.91</td>\n",
       "      <td>0.61</td>\n",
       "      <td>-0.16</td>\n",
       "    </tr>\n",
       "    <tr>\n",
       "      <th>1</th>\n",
       "      <td>Outlier</td>\n",
       "      <td>2439</td>\n",
       "      <td>4.985691</td>\n",
       "      <td>0.29</td>\n",
       "      <td>0.02</td>\n",
       "      <td>875.06</td>\n",
       "      <td>0.86</td>\n",
       "      <td>0.02</td>\n",
       "      <td>4484.63</td>\n",
       "      <td>4.99</td>\n",
       "      <td>4484.63</td>\n",
       "      <td>0.86</td>\n",
       "      <td>1.74</td>\n",
       "      <td>2897.19</td>\n",
       "      <td>3.68</td>\n",
       "      <td>2.98</td>\n",
       "    </tr>\n",
       "  </tbody>\n",
       "</table>\n",
       "</div>"
      ],
      "text/plain": [
       "     Group  Count    Count %  Payment_to_Charge_Ratio  Discharges_per_Dollar  \\\n",
       "0   Normal  46481  95.014309                     0.28                   0.01   \n",
       "1  Outlier   2439   4.985691                     0.29                   0.02   \n",
       "\n",
       "   Average_Payment_per_Discharge  Coverage_Ratio  \\\n",
       "0                         330.03            0.85   \n",
       "1                         875.06            0.86   \n",
       "\n",
       "   Discharges_per_Medicare_Payment  hospital_efficiency_score  \\\n",
       "0                             0.01                    1364.70   \n",
       "1                             0.02                    4484.63   \n",
       "\n",
       "   charge_to_payment_ratio  discharge_efficiency  \\\n",
       "0                     3.72               1364.70   \n",
       "1                     4.99               4484.63   \n",
       "\n",
       "   Avg Covered Charge Deviation  Provider Type Discharge Deviation  \\\n",
       "0                         -0.04                              -0.10   \n",
       "1                          0.86                               1.74   \n",
       "\n",
       "   Weighted DRG Complexity Score  Patient Complexity Ratio  Anomaly_Score  \n",
       "0                         550.91                      0.61          -0.16  \n",
       "1                        2897.19                      3.68           2.98  "
      ]
     },
     "execution_count": 68,
     "metadata": {},
     "output_type": "execute_result"
    }
   ],
   "source": [
    "# Compute descriptive statistics for test data using combined scores\n",
    "descriptive_stat_threshold(X_test, y_test_by_average, combined_threshold_iforest, feature_list)"
   ]
  },
  {
   "cell_type": "markdown",
   "id": "4e06af29-2543-49a7-8196-bc7b57d873f1",
   "metadata": {},
   "source": [
    "### Descriptive Statistics for Normal and Outlier Groups (Combined Isolation Forest)\n",
    "\n",
    "The following table summarizes the key differences between the `Normal` and `Outlier` groups based on the averaged outlier scores from multiple Isolation Forest models. This breakdown provides insights into the distinguishing characteristics of anomalies compared to typical observations.\n",
    "\n",
    "#### Key Observations:\n",
    "\n",
    "- **Count and Percentage**: \n",
    "  - Approximately 5% of the observations are classified as outliers in both the training and test datasets, aligning well with the model’s contamination rate.\n",
    "\n",
    "- **Average_Payment_per_Discharge**: \n",
    "  - Outliers show significantly higher average payments per discharge compared to normal observations. For instance, in the training data, outliers have an average payment of **879.47** versus **329.81** for normal cases. This indicates that anomalies tend to involve cases with substantially higher costs.\n",
    "\n",
    "- **hospital_efficiency_score and charge_to_payment_ratio**: \n",
    "  - Outliers exhibit much higher values for both `hospital_efficiency_score` and `charge_to_payment_ratio`. For example, in the training data, outliers have a `hospital_efficiency_score` of **4474.85** and a `charge_to_payment_ratio` of **4.96**, compared to **1355.08** and **3.71** for normal observations, respectively. This suggests that anomalies may correspond to less efficient or costlier cases.\n",
    "\n",
    "- **Complexity Scores**:\n",
    "  - The `Weighted DRG Complexity Score` and `Patient Complexity Ratio` are markedly higher for outliers, indicating that anomalies are associated with more complex or resource-intensive cases. For instance, in the training data, outliers have a `Weighted DRG Complexity Score` of **3078.04** compared to **554.91** for normal cases.\n",
    "\n",
    "- **Other Feature Differences**:\n",
    "  - Features such as `Avg Covered Charge Deviation` and `Provider Type Discharge Deviation` also have higher values for outliers, further highlighting the differences in cost and complexity metrics.\n",
    "\n",
    "#### Conclusion:\n",
    "The descriptive statistics indicate that the combined Isolation Forest model identifies anomalies primarily based on higher financial and efficiency metrics, along with greater complexity in patient cases. This suggests that the model effectively captures cases with unusual cost or complexity patterns, which may warrant further investigation for potential inefficiencies or irregularities.\n"
   ]
  },
  {
   "cell_type": "markdown",
   "id": "f313c7fd-ce49-440e-8be8-84e3991e9d9f",
   "metadata": {},
   "source": [
    "## Model Comparison and Performance Analysis\n",
    "\n",
    "In this analysis, we applied two anomaly detection models—Autoencoder and Isolation Forest—to identify outliers within the dataset. Here’s a comparison of their performance and observations:\n",
    "\n",
    "1. **Model Approach**:\n",
    "   - **Autoencoder**: This model relies on reconstructing normal data patterns, and any significant deviation in reconstruction error is treated as an anomaly.\n",
    "   - **Isolation Forest**: This model isolates observations by randomly partitioning the data; points requiring fewer partitions to isolate are more likely to be outliers.\n",
    "\n",
    "2. **Outlier Detection Thresholds**:\n",
    "   - The Autoencoder and Isolation Forest both identified outliers based on thresholds derived from decision scores. The thresholds were chosen to capture approximately 5% of the data as anomalies in each case, consistent with the `contamination` parameter.\n",
    "\n",
    "3. **Feature Contribution (Isolation Forest)**:\n",
    "   - The Isolation Forest model provided insights into feature importances, showing that `Payment_to_Charge_Ratio` and `Patient Complexity Ratio` were the most influential features in detecting anomalies. This helps in understanding which features are most indicative of outlier behavior.\n",
    "\n",
    "4. **Statistical Summary**:\n",
    "   - Both models detected a similar proportion of outliers (~5%). Statistical summaries reveal that outliers generally have a higher `Average_Payment_per_Discharge` and `charge_to_payment_ratio`, suggesting inefficiencies or unusual patterns in cost and coverage metrics.\n",
    "\n",
    "5. **Conclusion**:\n",
    "   - Both models are effective in identifying outliers, with Isolation Forest offering additional insights through feature importance. The choice of model could depend on interpretability needs: Autoencoder for reconstruction-based anomalies and Isolation Forest for feature-driven anomaly isolation.\n",
    "\n",
    "This comparison highlights the strengths and unique contributions of each model, providing a comprehensive perspective on their effectiveness in detecting anomalies within the dataset.\n"
   ]
  },
  {
   "cell_type": "code",
   "execution_count": null,
   "id": "cab88275-7947-4684-8789-9496da68392e",
   "metadata": {},
   "outputs": [],
   "source": []
  },
  {
   "cell_type": "code",
   "execution_count": null,
   "id": "40bba9a2-0a8b-4e8a-a100-60fb18a1ad33",
   "metadata": {},
   "outputs": [],
   "source": []
  },
  {
   "cell_type": "code",
   "execution_count": null,
   "id": "37f71726-3e89-47b8-9118-aa4bfe32bf66",
   "metadata": {},
   "outputs": [],
   "source": []
  },
  {
   "cell_type": "code",
   "execution_count": null,
   "id": "8dfffe45-3d42-41de-bf88-f3e99ccd458e",
   "metadata": {},
   "outputs": [],
   "source": []
  },
  {
   "cell_type": "code",
   "execution_count": null,
   "id": "ff3b217b-c88b-4b99-b870-38c63fcfd25a",
   "metadata": {},
   "outputs": [],
   "source": []
  }
 ],
 "metadata": {
  "kernelspec": {
   "display_name": "Python 3 (ipykernel)",
   "language": "python",
   "name": "python3"
  },
  "language_info": {
   "codemirror_mode": {
    "name": "ipython",
    "version": 3
   },
   "file_extension": ".py",
   "mimetype": "text/x-python",
   "name": "python",
   "nbconvert_exporter": "python",
   "pygments_lexer": "ipython3",
   "version": "3.11.9"
  }
 },
 "nbformat": 4,
 "nbformat_minor": 5
}
